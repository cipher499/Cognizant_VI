{
 "cells": [
  {
   "cell_type": "markdown",
   "id": "278571f1-6b4f-4013-80b3-da612dd18297",
   "metadata": {},
   "source": [
    "---\n",
    "## **Exploratory Data Analysis: Gala Group**\n",
    "\n",
    "### **@author: Shwetank Goswami**\n",
    "\n",
    "### **GitHub: cipher499**\n",
    "\n",
    "#### date: 21/07/23\n",
    "\n",
    "\n",
    "---"
   ]
  },
  {
   "cell_type": "code",
   "execution_count": 1,
   "id": "d7251e01-1197-43fc-b232-ed216b18f607",
   "metadata": {},
   "outputs": [],
   "source": [
    "import pandas as pd\n",
    "import matplotlib.pyplot as plt\n",
    "import seaborn as sns"
   ]
  },
  {
   "cell_type": "code",
   "execution_count": 2,
   "id": "7fdad47d-0ebc-4d61-bbd8-e1a75ed2e80f",
   "metadata": {},
   "outputs": [
    {
     "data": {
      "text/html": [
       "<div>\n",
       "<style scoped>\n",
       "    .dataframe tbody tr th:only-of-type {\n",
       "        vertical-align: middle;\n",
       "    }\n",
       "\n",
       "    .dataframe tbody tr th {\n",
       "        vertical-align: top;\n",
       "    }\n",
       "\n",
       "    .dataframe thead th {\n",
       "        text-align: right;\n",
       "    }\n",
       "</style>\n",
       "<table border=\"1\" class=\"dataframe\">\n",
       "  <thead>\n",
       "    <tr style=\"text-align: right;\">\n",
       "      <th></th>\n",
       "      <th>Unnamed: 0</th>\n",
       "      <th>transaction_id</th>\n",
       "      <th>timestamp</th>\n",
       "      <th>product_id</th>\n",
       "      <th>category</th>\n",
       "      <th>customer_type</th>\n",
       "      <th>unit_price</th>\n",
       "      <th>quantity</th>\n",
       "      <th>total</th>\n",
       "      <th>payment_type</th>\n",
       "    </tr>\n",
       "  </thead>\n",
       "  <tbody>\n",
       "    <tr>\n",
       "      <th>0</th>\n",
       "      <td>0</td>\n",
       "      <td>a1c82654-c52c-45b3-8ce8-4c2a1efe63ed</td>\n",
       "      <td>2022-03-02 09:51:38</td>\n",
       "      <td>3bc6c1ea-0198-46de-9ffd-514ae3338713</td>\n",
       "      <td>fruit</td>\n",
       "      <td>gold</td>\n",
       "      <td>3.99</td>\n",
       "      <td>2</td>\n",
       "      <td>7.98</td>\n",
       "      <td>e-wallet</td>\n",
       "    </tr>\n",
       "    <tr>\n",
       "      <th>1</th>\n",
       "      <td>1</td>\n",
       "      <td>931ad550-09e8-4da6-beaa-8c9d17be9c60</td>\n",
       "      <td>2022-03-06 10:33:59</td>\n",
       "      <td>ad81b46c-bf38-41cf-9b54-5fe7f5eba93e</td>\n",
       "      <td>fruit</td>\n",
       "      <td>standard</td>\n",
       "      <td>3.99</td>\n",
       "      <td>1</td>\n",
       "      <td>3.99</td>\n",
       "      <td>e-wallet</td>\n",
       "    </tr>\n",
       "    <tr>\n",
       "      <th>2</th>\n",
       "      <td>2</td>\n",
       "      <td>ae133534-6f61-4cd6-b6b8-d1c1d8d90aea</td>\n",
       "      <td>2022-03-04 17:20:21</td>\n",
       "      <td>7c55cbd4-f306-4c04-a030-628cbe7867c1</td>\n",
       "      <td>fruit</td>\n",
       "      <td>premium</td>\n",
       "      <td>0.19</td>\n",
       "      <td>2</td>\n",
       "      <td>0.38</td>\n",
       "      <td>e-wallet</td>\n",
       "    </tr>\n",
       "    <tr>\n",
       "      <th>3</th>\n",
       "      <td>3</td>\n",
       "      <td>157cebd9-aaf0-475d-8a11-7c8e0f5b76e4</td>\n",
       "      <td>2022-03-02 17:23:58</td>\n",
       "      <td>80da8348-1707-403f-8be7-9e6deeccc883</td>\n",
       "      <td>fruit</td>\n",
       "      <td>gold</td>\n",
       "      <td>0.19</td>\n",
       "      <td>4</td>\n",
       "      <td>0.76</td>\n",
       "      <td>e-wallet</td>\n",
       "    </tr>\n",
       "    <tr>\n",
       "      <th>4</th>\n",
       "      <td>4</td>\n",
       "      <td>a81a6cd3-5e0c-44a2-826c-aea43e46c514</td>\n",
       "      <td>2022-03-05 14:32:43</td>\n",
       "      <td>7f5e86e6-f06f-45f6-bf44-27b095c9ad1d</td>\n",
       "      <td>fruit</td>\n",
       "      <td>basic</td>\n",
       "      <td>4.49</td>\n",
       "      <td>2</td>\n",
       "      <td>8.98</td>\n",
       "      <td>debit card</td>\n",
       "    </tr>\n",
       "  </tbody>\n",
       "</table>\n",
       "</div>"
      ],
      "text/plain": [
       "   Unnamed: 0                        transaction_id            timestamp  \\\n",
       "0           0  a1c82654-c52c-45b3-8ce8-4c2a1efe63ed  2022-03-02 09:51:38   \n",
       "1           1  931ad550-09e8-4da6-beaa-8c9d17be9c60  2022-03-06 10:33:59   \n",
       "2           2  ae133534-6f61-4cd6-b6b8-d1c1d8d90aea  2022-03-04 17:20:21   \n",
       "3           3  157cebd9-aaf0-475d-8a11-7c8e0f5b76e4  2022-03-02 17:23:58   \n",
       "4           4  a81a6cd3-5e0c-44a2-826c-aea43e46c514  2022-03-05 14:32:43   \n",
       "\n",
       "                             product_id category customer_type  unit_price  \\\n",
       "0  3bc6c1ea-0198-46de-9ffd-514ae3338713    fruit          gold        3.99   \n",
       "1  ad81b46c-bf38-41cf-9b54-5fe7f5eba93e    fruit      standard        3.99   \n",
       "2  7c55cbd4-f306-4c04-a030-628cbe7867c1    fruit       premium        0.19   \n",
       "3  80da8348-1707-403f-8be7-9e6deeccc883    fruit          gold        0.19   \n",
       "4  7f5e86e6-f06f-45f6-bf44-27b095c9ad1d    fruit         basic        4.49   \n",
       "\n",
       "   quantity  total payment_type  \n",
       "0         2   7.98     e-wallet  \n",
       "1         1   3.99     e-wallet  \n",
       "2         2   0.38     e-wallet  \n",
       "3         4   0.76     e-wallet  \n",
       "4         2   8.98   debit card  "
      ]
     },
     "execution_count": 2,
     "metadata": {},
     "output_type": "execute_result"
    }
   ],
   "source": [
    "#read the dataset into a dataframe\n",
    "df = pd.read_csv('sample_sales_data.csv')\n",
    "df.head()"
   ]
  },
  {
   "cell_type": "code",
   "execution_count": 52,
   "id": "1f08571b-32e6-4a23-affc-8a956ff46660",
   "metadata": {},
   "outputs": [],
   "source": [
    "# drop the first column\n",
    "df.drop('Unnamed: 0', axis=1, inplace=True)"
   ]
  },
  {
   "cell_type": "code",
   "execution_count": 8,
   "id": "61955db9-f5ab-44cf-aa2e-276857034a73",
   "metadata": {},
   "outputs": [
    {
     "data": {
      "text/html": [
       "<div>\n",
       "<style scoped>\n",
       "    .dataframe tbody tr th:only-of-type {\n",
       "        vertical-align: middle;\n",
       "    }\n",
       "\n",
       "    .dataframe tbody tr th {\n",
       "        vertical-align: top;\n",
       "    }\n",
       "\n",
       "    .dataframe thead th {\n",
       "        text-align: right;\n",
       "    }\n",
       "</style>\n",
       "<table border=\"1\" class=\"dataframe\">\n",
       "  <thead>\n",
       "    <tr style=\"text-align: right;\">\n",
       "      <th></th>\n",
       "      <th>unit_price</th>\n",
       "      <th>quantity</th>\n",
       "      <th>total</th>\n",
       "    </tr>\n",
       "  </thead>\n",
       "  <tbody>\n",
       "    <tr>\n",
       "      <th>count</th>\n",
       "      <td>7829.000000</td>\n",
       "      <td>7829.000000</td>\n",
       "      <td>7829.000000</td>\n",
       "    </tr>\n",
       "    <tr>\n",
       "      <th>mean</th>\n",
       "      <td>7.819480</td>\n",
       "      <td>2.501597</td>\n",
       "      <td>19.709905</td>\n",
       "    </tr>\n",
       "    <tr>\n",
       "      <th>std</th>\n",
       "      <td>5.388088</td>\n",
       "      <td>1.122722</td>\n",
       "      <td>17.446680</td>\n",
       "    </tr>\n",
       "    <tr>\n",
       "      <th>min</th>\n",
       "      <td>0.190000</td>\n",
       "      <td>1.000000</td>\n",
       "      <td>0.190000</td>\n",
       "    </tr>\n",
       "    <tr>\n",
       "      <th>25%</th>\n",
       "      <td>3.990000</td>\n",
       "      <td>1.000000</td>\n",
       "      <td>6.570000</td>\n",
       "    </tr>\n",
       "    <tr>\n",
       "      <th>50%</th>\n",
       "      <td>7.190000</td>\n",
       "      <td>3.000000</td>\n",
       "      <td>14.970000</td>\n",
       "    </tr>\n",
       "    <tr>\n",
       "      <th>75%</th>\n",
       "      <td>11.190000</td>\n",
       "      <td>4.000000</td>\n",
       "      <td>28.470000</td>\n",
       "    </tr>\n",
       "    <tr>\n",
       "      <th>max</th>\n",
       "      <td>23.990000</td>\n",
       "      <td>4.000000</td>\n",
       "      <td>95.960000</td>\n",
       "    </tr>\n",
       "  </tbody>\n",
       "</table>\n",
       "</div>"
      ],
      "text/plain": [
       "        unit_price     quantity        total\n",
       "count  7829.000000  7829.000000  7829.000000\n",
       "mean      7.819480     2.501597    19.709905\n",
       "std       5.388088     1.122722    17.446680\n",
       "min       0.190000     1.000000     0.190000\n",
       "25%       3.990000     1.000000     6.570000\n",
       "50%       7.190000     3.000000    14.970000\n",
       "75%      11.190000     4.000000    28.470000\n",
       "max      23.990000     4.000000    95.960000"
      ]
     },
     "execution_count": 8,
     "metadata": {},
     "output_type": "execute_result"
    }
   ],
   "source": [
    "# descriptive statistics of numerical features\n",
    "df[['unit_price', 'quantity', 'total']].describe()"
   ]
  },
  {
   "cell_type": "code",
   "execution_count": 112,
   "id": "d90bc5e6-2225-4858-ae2b-e73cd3bf7e62",
   "metadata": {},
   "outputs": [
    {
     "data": {
      "text/plain": [
       "transaction_id     object\n",
       "timestamp          object\n",
       "product_id         object\n",
       "category           object\n",
       "customer_type      object\n",
       "unit_price        float64\n",
       "quantity            int64\n",
       "total             float64\n",
       "payment_type       object\n",
       "dtype: object"
      ]
     },
     "execution_count": 112,
     "metadata": {},
     "output_type": "execute_result"
    }
   ],
   "source": [
    "# check data types of all columns\n",
    "df.dtypes"
   ]
  },
  {
   "cell_type": "code",
   "execution_count": 114,
   "id": "331fe283-b126-4604-9bf6-78dd59c22042",
   "metadata": {},
   "outputs": [
    {
     "data": {
      "text/plain": [
       "transaction_id  timestamp  product_id  category  customer_type  unit_price  quantity  total  payment_type\n",
       "False           False      False       False     False          False       False     False  False           7829\n",
       "dtype: int64"
      ]
     },
     "execution_count": 114,
     "metadata": {},
     "output_type": "execute_result"
    }
   ],
   "source": [
    "# check for null values\n",
    "df.isnull().value_counts()"
   ]
  },
  {
   "cell_type": "code",
   "execution_count": 16,
   "id": "de4f0dcb-de7e-42a9-88a3-7bb633ca4031",
   "metadata": {},
   "outputs": [
    {
     "data": {
      "text/plain": [
       "<AxesSubplot:>"
      ]
     },
     "execution_count": 16,
     "metadata": {},
     "output_type": "execute_result"
    },
    {
     "data": {
      "image/png": "[encoded data removed]",
      "text/plain": [
       "<Figure size 432x288 with 1 Axes>"
      ]
     },
     "metadata": {
      "needs_background": "light"
     },
     "output_type": "display_data"
    }
   ],
   "source": [
    "# Visualize numerical columns\n",
    "df.boxplot(column = 'unit_price')"
   ]
  },
  {
   "cell_type": "code",
   "execution_count": 17,
   "id": "ae4d509d-c641-4e28-b175-bb575cf77e24",
   "metadata": {},
   "outputs": [
    {
     "data": {
      "text/plain": [
       "<AxesSubplot:>"
      ]
     },
     "execution_count": 17,
     "metadata": {},
     "output_type": "execute_result"
    },
    {
     "data": {
      "image/png": "[encoded data removed]",
      "text/plain": [
       "<Figure size 432x288 with 1 Axes>"
      ]
     },
     "metadata": {
      "needs_background": "light"
     },
     "output_type": "display_data"
    }
   ],
   "source": [
    "df.boxplot(column = 'total')"
   ]
  },
  {
   "cell_type": "code",
   "execution_count": 14,
   "id": "8806903c-f2e4-48e2-bf3d-b0f24add615b",
   "metadata": {},
   "outputs": [
    {
     "data": {
      "text/plain": [
       "Index(['Unnamed: 0', 'transaction_id', 'timestamp', 'product_id', 'category',\n",
       "       'customer_type', 'unit_price', 'quantity', 'total', 'payment_type'],\n",
       "      dtype='object')"
      ]
     },
     "execution_count": 14,
     "metadata": {},
     "output_type": "execute_result"
    }
   ],
   "source": [
    "df.columns"
   ]
  },
  {
   "cell_type": "code",
   "execution_count": 83,
   "id": "0ca2760a-bbbb-4283-a448-87e0cec8bc2f",
   "metadata": {},
   "outputs": [],
   "source": [
    "# functions to plot the different types of columns\n",
    "\n",
    "def plot_continuous_distribution(data: pd.DataFrame = None, column: str = None, height: int = 8):\n",
    "    cont_plot = sns.displot(data, x=column, kde=True, height=height, aspect=height/5).set(title=f'Distribution of {column}');\n",
    "\n",
    "def get_unique_values(data, column):\n",
    "    num_unique_values = len(data[column].unique())\n",
    "    value_counts = data[column].value_counts()\n",
    "    print(f\"Column: {column} has {num_unique_values} unique values\\n\")\n",
    "    print(value_counts)\n",
    "\n",
    "def plot_categorical_distribution(data: pd.DataFrame = None, column: str = None, height: int = 8, aspect: int = 2):\n",
    "    cat_plot = sns.catplot(data=data, x=column, kind='count', height=height, aspect=aspect).set(title=f'Distribution of {column}');\n",
    "    plt.title(f'Distribution of {column}')\n",
    "    # Rotate the x-axis tick labels\n",
    "    cat_plot.set_xticklabels(rotation=90)\n",
    "    plt.show()\n",
    "\n",
    "def correlation_plot(data: pd.DataFrame = None):\n",
    "    corr = data.corr()\n",
    "    corr_styled = corr.style.background_gradient(cmap=sns.diverging_palette(220, 10, as_cmap=True))\n",
    "    plt.show()\n",
    "    return corr_styled"
   ]
  },
  {
   "cell_type": "code",
   "execution_count": 84,
   "id": "53c38382-a665-490e-be56-1e21b7e11a6a",
   "metadata": {},
   "outputs": [
    {
     "data": {
      "text/html": [
       "<style type=\"text/css\">\n",
       "#T_1486f_row0_col0, #T_1486f_row1_col1, #T_1486f_row2_col2 {\n",
       "  background-color: #da3b46;\n",
       "  color: #f1f1f1;\n",
       "}\n",
       "#T_1486f_row0_col1 {\n",
       "  background-color: #efdadb;\n",
       "  color: #000000;\n",
       "}\n",
       "#T_1486f_row0_col2, #T_1486f_row2_col0, #T_1486f_row2_col1 {\n",
       "  background-color: #3f7f93;\n",
       "  color: #f1f1f1;\n",
       "}\n",
       "#T_1486f_row1_col0 {\n",
       "  background-color: #e4888f;\n",
       "  color: #f1f1f1;\n",
       "}\n",
       "#T_1486f_row1_col2 {\n",
       "  background-color: #f2eeee;\n",
       "  color: #000000;\n",
       "}\n",
       "</style>\n",
       "<table id=\"T_1486f\">\n",
       "  <thead>\n",
       "    <tr>\n",
       "      <th class=\"blank level0\" >&nbsp;</th>\n",
       "      <th id=\"T_1486f_level0_col0\" class=\"col_heading level0 col0\" >unit_price</th>\n",
       "      <th id=\"T_1486f_level0_col1\" class=\"col_heading level0 col1\" >total</th>\n",
       "      <th id=\"T_1486f_level0_col2\" class=\"col_heading level0 col2\" >quantity</th>\n",
       "    </tr>\n",
       "  </thead>\n",
       "  <tbody>\n",
       "    <tr>\n",
       "      <th id=\"T_1486f_level0_row0\" class=\"row_heading level0 row0\" >unit_price</th>\n",
       "      <td id=\"T_1486f_row0_col0\" class=\"data row0 col0\" >1.000000</td>\n",
       "      <td id=\"T_1486f_row0_col1\" class=\"data row0 col1\" >0.792018</td>\n",
       "      <td id=\"T_1486f_row0_col2\" class=\"data row0 col2\" >0.024588</td>\n",
       "    </tr>\n",
       "    <tr>\n",
       "      <th id=\"T_1486f_level0_row1\" class=\"row_heading level0 row1\" >total</th>\n",
       "      <td id=\"T_1486f_row1_col0\" class=\"data row1 col0\" >0.792018</td>\n",
       "      <td id=\"T_1486f_row1_col1\" class=\"data row1 col1\" >1.000000</td>\n",
       "      <td id=\"T_1486f_row1_col2\" class=\"data row1 col2\" >0.521926</td>\n",
       "    </tr>\n",
       "    <tr>\n",
       "      <th id=\"T_1486f_level0_row2\" class=\"row_heading level0 row2\" >quantity</th>\n",
       "      <td id=\"T_1486f_row2_col0\" class=\"data row2 col0\" >0.024588</td>\n",
       "      <td id=\"T_1486f_row2_col1\" class=\"data row2 col1\" >0.521926</td>\n",
       "      <td id=\"T_1486f_row2_col2\" class=\"data row2 col2\" >1.000000</td>\n",
       "    </tr>\n",
       "  </tbody>\n",
       "</table>\n"
      ],
      "text/plain": [
       "<pandas.io.formats.style.Styler at 0x7fec7a4763b0>"
      ]
     },
     "execution_count": 84,
     "metadata": {},
     "output_type": "execute_result"
    }
   ],
   "source": [
    "# correlation betweeen numerical columns\n",
    "correlation_plot(df[['unit_price', 'total', 'quantity']])"
   ]
  },
  {
   "cell_type": "code",
   "execution_count": 90,
   "id": "c7b19495-27a4-44ad-9faa-0b4cd24d7a33",
   "metadata": {},
   "outputs": [
    {
     "data": {
      "image/png": "[encoded data removed]",
      "text/plain": [
       "<Figure size 518.4x432 with 1 Axes>"
      ]
     },
     "metadata": {
      "needs_background": "light"
     },
     "output_type": "display_data"
    }
   ],
   "source": [
    "# visualize continuous variables\n",
    "plot_continuous_distribution(df, 'unit_price', 6)"
   ]
  },
  {
   "cell_type": "markdown",
   "id": "0d92fd4b-2681-4707-8aa9-de1207cb7137",
   "metadata": {},
   "source": [
    "* **It is evident that the itens that are priced high sell less which makes sense as in grocery story, cheaper items are expected to be sold more.**"
   ]
  },
  {
   "cell_type": "code",
   "execution_count": 91,
   "id": "a8ab7519-2169-4953-ad71-181ee1374814",
   "metadata": {},
   "outputs": [
    {
     "data": {
      "image/png": "[encoded data removed]",
      "text/plain": [
       "<Figure size 518.4x432 with 1 Axes>"
      ]
     },
     "metadata": {
      "needs_background": "light"
     },
     "output_type": "display_data"
    }
   ],
   "source": [
    "# visualize total sales\n",
    "plot_continuous_distribution(df, 'total', 6)"
   ]
  },
  {
   "cell_type": "markdown",
   "id": "bc5f79c7-6982-4ecd-b785-ae7c3cd419e1",
   "metadata": {},
   "source": [
    "* **Smaller purchases seem to more frequent. The customers tend to make small purchases often and occasional high value transactions.**"
   ]
  },
  {
   "cell_type": "code",
   "execution_count": 96,
   "id": "0999e75a-c24e-4b40-8869-a6d999befba1",
   "metadata": {},
   "outputs": [
    {
     "name": "stdout",
     "output_type": "stream",
     "text": [
      "Column: product_id has 300 unique values\n",
      "\n",
      "ecac012c-1dec-41d4-9ebd-56fb7166f6d9    114\n",
      "80da8348-1707-403f-8be7-9e6deeccc883    109\n",
      "0ddc2379-adba-4fb0-aa97-19fcafc738a1    108\n",
      "7c55cbd4-f306-4c04-a030-628cbe7867c1    104\n",
      "3bc6c1ea-0198-46de-9ffd-514ae3338713    101\n",
      "                                       ... \n",
      "49f7d4a9-713a-4824-b378-aebb33ff8b2f      5\n",
      "a8fab83a-16d4-4db0-a83a-f824ecd8604a      5\n",
      "c8de27d0-2c44-4b5a-b178-59c45d054ccb      5\n",
      "5adfc643-aa8e-4140-b2c3-98a946444632      5\n",
      "ec0bb9b5-45e3-4de8-963d-e92aa91a201e      3\n",
      "Name: product_id, Length: 300, dtype: int64\n"
     ]
    }
   ],
   "source": [
    "# number & countof products\n",
    "get_unique_values(df, 'product_id')"
   ]
  },
  {
   "cell_type": "markdown",
   "id": "e950cfc6-42b2-457c-9552-cc49072e4e06",
   "metadata": {},
   "source": [
    "* **A total of 300 different types of products are in the dataset. The product `ecac012c-1dec-41d4-9ebd-56fb7166f6d9` is the most sold item.**"
   ]
  },
  {
   "cell_type": "code",
   "execution_count": 110,
   "id": "d286bf04-6d67-4beb-a8bc-6d4aed617ab9",
   "metadata": {},
   "outputs": [
    {
     "name": "stdout",
     "output_type": "stream",
     "text": [
      "Column: customer_type has 5 unique values\n",
      "\n",
      "non-member    1601\n",
      "standard      1595\n",
      "premium       1590\n",
      "basic         1526\n",
      "gold          1517\n",
      "Name: customer_type, dtype: int64\n"
     ]
    }
   ],
   "source": [
    "# number & count of customer types \n",
    "get_unique_values(df, 'customer_type')"
   ]
  },
  {
   "cell_type": "markdown",
   "id": "1abd59e0-0def-4742-a43d-3195e01a1b97",
   "metadata": {},
   "source": [
    "* **Non-members constitutes the group that has made the most purchases. Amongst the members, there is not much difference.**"
   ]
  },
  {
   "cell_type": "code",
   "execution_count": 111,
   "id": "bd2b8532-0033-48d2-b81a-c7185d3186b8",
   "metadata": {},
   "outputs": [
    {
     "name": "stdout",
     "output_type": "stream",
     "text": [
      "Column: payment_type has 4 unique values\n",
      "\n",
      "cash           2027\n",
      "credit card    1949\n",
      "e-wallet       1935\n",
      "debit card     1918\n",
      "Name: payment_type, dtype: int64\n"
     ]
    }
   ],
   "source": [
    "# number & count of payment types\n",
    "get_unique_values(df, 'payment_type')"
   ]
  },
  {
   "cell_type": "markdown",
   "id": "94b6e6cf-559b-449d-b8ac-19743b38de65",
   "metadata": {},
   "source": [
    "* **We can see that most customers make the cash transactions.**"
   ]
  },
  {
   "cell_type": "code",
   "execution_count": 98,
   "id": "1b3fa6db-d063-41ce-8c6e-06d937d0ce9d",
   "metadata": {},
   "outputs": [
    {
     "name": "stdout",
     "output_type": "stream",
     "text": [
      "Column: category has 22 unique values\n",
      "\n",
      "fruit                    998\n",
      "vegetables               846\n",
      "packaged foods           507\n",
      "baked goods              443\n",
      "canned foods             431\n",
      "refrigerated items       425\n",
      "kitchen                  382\n",
      "meat                     382\n",
      "dairy                    375\n",
      "beverages                301\n",
      "cheese                   293\n",
      "cleaning products        292\n",
      "baking                   264\n",
      "snacks                   263\n",
      "frozen                   263\n",
      "seafood                  253\n",
      "medicine                 243\n",
      "baby products            224\n",
      "condiments and sauces    181\n",
      "personal care            177\n",
      "pets                     161\n",
      "spices and herbs         125\n",
      "Name: category, dtype: int64\n"
     ]
    }
   ],
   "source": [
    "# number & count of categories\n",
    "get_unique_values(df, 'category')"
   ]
  },
  {
   "cell_type": "code",
   "execution_count": 92,
   "id": "a9fdf8e3-aab6-40e8-a2f4-43ddccf8efba",
   "metadata": {},
   "outputs": [
    {
     "data": {
      "image/png": "[encoded data removed]",
      "text/plain": [
       "<Figure size 864x432 with 1 Axes>"
      ]
     },
     "metadata": {
      "needs_background": "light"
     },
     "output_type": "display_data"
    }
   ],
   "source": [
    "# visualize item categories by count\n",
    "plot_categorical_distribution(df, 'category', 6)"
   ]
  },
  {
   "cell_type": "markdown",
   "id": "0fde0968-e947-4ea8-8f5e-6ce3d1acbc95",
   "metadata": {},
   "source": [
    "* **The items in the dataset are categorized into 22 unique categories, and `fruit`, `vegetables`, & `packaged food` are the most sold category. This indicates that customers buy food items on a regular basis.**"
   ]
  },
  {
   "cell_type": "code",
   "execution_count": 94,
   "id": "46524795-1f26-4014-863b-71e2cdb1d8c0",
   "metadata": {},
   "outputs": [
    {
     "data": {
      "image/png": "[encoded data removed]",
      "text/plain": [
       "<Figure size 720x360 with 1 Axes>"
      ]
     },
     "metadata": {
      "needs_background": "light"
     },
     "output_type": "display_data"
    }
   ],
   "source": [
    "# visualize customer types by count\n",
    "plot_categorical_distribution(df, 'customer_type', 5)"
   ]
  },
  {
   "cell_type": "code",
   "execution_count": 95,
   "id": "548a9365-8915-4520-8da9-00b66ea06556",
   "metadata": {},
   "outputs": [
    {
     "data": {
      "image/png": "[encoded data removed]",
      "text/plain": [
       "<Figure size 720x360 with 1 Axes>"
      ]
     },
     "metadata": {
      "needs_background": "light"
     },
     "output_type": "display_data"
    }
   ],
   "source": [
    "# visualize payment types by count\n",
    "plot_categorical_distribution(df, 'payment_type', 5)"
   ]
  },
  {
   "cell_type": "code",
   "execution_count": 99,
   "id": "8cb4afff-750f-4aed-bbb4-de2cddf67cee",
   "metadata": {},
   "outputs": [
    {
     "data": {
      "text/html": [
       "<div>\n",
       "<style scoped>\n",
       "    .dataframe tbody tr th:only-of-type {\n",
       "        vertical-align: middle;\n",
       "    }\n",
       "\n",
       "    .dataframe tbody tr th {\n",
       "        vertical-align: top;\n",
       "    }\n",
       "\n",
       "    .dataframe thead th {\n",
       "        text-align: right;\n",
       "    }\n",
       "</style>\n",
       "<table border=\"1\" class=\"dataframe\">\n",
       "  <thead>\n",
       "    <tr style=\"text-align: right;\">\n",
       "      <th></th>\n",
       "      <th>total</th>\n",
       "    </tr>\n",
       "    <tr>\n",
       "      <th>category</th>\n",
       "      <th></th>\n",
       "    </tr>\n",
       "  </thead>\n",
       "  <tbody>\n",
       "    <tr>\n",
       "      <th>kitchen</th>\n",
       "      <td>14456.65</td>\n",
       "    </tr>\n",
       "    <tr>\n",
       "      <th>meat</th>\n",
       "      <td>14102.31</td>\n",
       "    </tr>\n",
       "    <tr>\n",
       "      <th>seafood</th>\n",
       "      <td>10754.81</td>\n",
       "    </tr>\n",
       "    <tr>\n",
       "      <th>medicine</th>\n",
       "      <td>10393.78</td>\n",
       "    </tr>\n",
       "    <tr>\n",
       "      <th>beverages</th>\n",
       "      <td>9930.64</td>\n",
       "    </tr>\n",
       "    <tr>\n",
       "      <th>cleaning products</th>\n",
       "      <td>9483.75</td>\n",
       "    </tr>\n",
       "    <tr>\n",
       "      <th>baked goods</th>\n",
       "      <td>8348.21</td>\n",
       "    </tr>\n",
       "    <tr>\n",
       "      <th>dairy</th>\n",
       "      <td>7551.60</td>\n",
       "    </tr>\n",
       "    <tr>\n",
       "      <th>refrigerated items</th>\n",
       "      <td>7436.45</td>\n",
       "    </tr>\n",
       "    <tr>\n",
       "      <th>cheese</th>\n",
       "      <td>6861.27</td>\n",
       "    </tr>\n",
       "    <tr>\n",
       "      <th>canned foods</th>\n",
       "      <td>6743.48</td>\n",
       "    </tr>\n",
       "    <tr>\n",
       "      <th>baby products</th>\n",
       "      <td>6704.97</td>\n",
       "    </tr>\n",
       "    <tr>\n",
       "      <th>frozen</th>\n",
       "      <td>6590.10</td>\n",
       "    </tr>\n",
       "    <tr>\n",
       "      <th>packaged foods</th>\n",
       "      <td>6373.70</td>\n",
       "    </tr>\n",
       "    <tr>\n",
       "      <th>fruit</th>\n",
       "      <td>6124.21</td>\n",
       "    </tr>\n",
       "    <tr>\n",
       "      <th>vegetables</th>\n",
       "      <td>5070.46</td>\n",
       "    </tr>\n",
       "    <tr>\n",
       "      <th>pets</th>\n",
       "      <td>4205.95</td>\n",
       "    </tr>\n",
       "    <tr>\n",
       "      <th>personal care</th>\n",
       "      <td>4111.45</td>\n",
       "    </tr>\n",
       "    <tr>\n",
       "      <th>baking</th>\n",
       "      <td>3451.82</td>\n",
       "    </tr>\n",
       "    <tr>\n",
       "      <th>condiments and sauces</th>\n",
       "      <td>3111.60</td>\n",
       "    </tr>\n",
       "    <tr>\n",
       "      <th>snacks</th>\n",
       "      <td>1555.18</td>\n",
       "    </tr>\n",
       "    <tr>\n",
       "      <th>spices and herbs</th>\n",
       "      <td>946.46</td>\n",
       "    </tr>\n",
       "  </tbody>\n",
       "</table>\n",
       "</div>"
      ],
      "text/plain": [
       "                          total\n",
       "category                       \n",
       "kitchen                14456.65\n",
       "meat                   14102.31\n",
       "seafood                10754.81\n",
       "medicine               10393.78\n",
       "beverages               9930.64\n",
       "cleaning products       9483.75\n",
       "baked goods             8348.21\n",
       "dairy                   7551.60\n",
       "refrigerated items      7436.45\n",
       "cheese                  6861.27\n",
       "canned foods            6743.48\n",
       "baby products           6704.97\n",
       "frozen                  6590.10\n",
       "packaged foods          6373.70\n",
       "fruit                   6124.21\n",
       "vegetables              5070.46\n",
       "pets                    4205.95\n",
       "personal care           4111.45\n",
       "baking                  3451.82\n",
       "condiments and sauces   3111.60\n",
       "snacks                  1555.18\n",
       "spices and herbs         946.46"
      ]
     },
     "execution_count": 99,
     "metadata": {},
     "output_type": "execute_result"
    }
   ],
   "source": [
    "# pivot table of categories and the total revenue they generated\n",
    "df_catrev = pd.pivot_table(df, index = 'category', values = 'total', aggfunc = 'sum').sort_values('total', ascending=False)\n",
    "df_catrev"
   ]
  },
  {
   "cell_type": "code",
   "execution_count": 109,
   "id": "e617b4b1-bca5-469e-be5f-d80b2f5aa0ca",
   "metadata": {},
   "outputs": [
    {
     "data": {
      "image/png": "[encoded data removed]",
      "text/plain": [
       "<Figure size 936x576 with 1 Axes>"
      ]
     },
     "metadata": {
      "needs_background": "light"
     },
     "output_type": "display_data"
    }
   ],
   "source": [
    "# plot the top 10 categories by revenue\n",
    "plt.figure(figsize=(13, 8))\n",
    "cat_rev = sns.barplot(x = df_catrev.index[:10], y = df_catrev['total'][:10])\n",
    "cat_rev.set_xticklabels(cat_rev.get_xticklabels(), rotation = 90)\n",
    "plt.title('Top 10 categories')\n",
    "plt.show()"
   ]
  },
  {
   "cell_type": "markdown",
   "id": "e63cc26f-05c5-44d1-99f3-28685a8bb276",
   "metadata": {},
   "source": [
    "* **Items belonging to the categories `kitchen`, `meat`, & `seafood` are bringing in the most revenue. 8 out of the top 10 categories are food items, the other two being `medicine` and `cleaning products`. This means that food items, particularly packaged items, need to be more frequently restocked. Vegetables, fruits, and other non packaged items that are bought from local suppliers may require better inventory management and closer monitoring of their availability to ensure a steady supply to meet customer demand.**"
   ]
  },
  {
   "cell_type": "code",
   "execution_count": 118,
   "id": "0804c4b6-bdc0-4e72-8b77-ff09a8d55c6e",
   "metadata": {},
   "outputs": [],
   "source": [
    "# function convert the timestamp column into the datetime format\n",
    "\n",
    "def convert_to_datetime(data: pd.DataFrame = None, column: str = None):\n",
    "    dummy = data.copy()\n",
    "    dummy[column] = pd.to_datetime(dummy[column], format='%Y-%m-%d %H:%M:%S')\n",
    "    return dummy"
   ]
  },
  {
   "cell_type": "code",
   "execution_count": 120,
   "id": "07f88dfb-bd10-47d2-9138-e965f950a8fc",
   "metadata": {},
   "outputs": [],
   "source": [
    "df = convert_to_datetime(df, 'timestamp')"
   ]
  },
  {
   "cell_type": "code",
   "execution_count": 122,
   "id": "6df29110-6d70-4ca6-89b2-ff6a424e5360",
   "metadata": {},
   "outputs": [
    {
     "data": {
      "text/plain": [
       "transaction_id            object\n",
       "timestamp         datetime64[ns]\n",
       "product_id                object\n",
       "category                  object\n",
       "customer_type             object\n",
       "unit_price               float64\n",
       "quantity                   int64\n",
       "total                    float64\n",
       "payment_type              object\n",
       "dtype: object"
      ]
     },
     "execution_count": 122,
     "metadata": {},
     "output_type": "execute_result"
    }
   ],
   "source": [
    "df.dtypes"
   ]
  },
  {
   "cell_type": "markdown",
   "id": "50161d7d-8d5c-4381-b41a-ed40690cdce7",
   "metadata": {},
   "source": [
    "*The timestamp column is converted into the datetime datatype.*"
   ]
  },
  {
   "cell_type": "code",
   "execution_count": 124,
   "id": "7fab5252-5016-402a-9a0c-1dd265805491",
   "metadata": {},
   "outputs": [
    {
     "data": {
      "text/html": [
       "<div>\n",
       "<style scoped>\n",
       "    .dataframe tbody tr th:only-of-type {\n",
       "        vertical-align: middle;\n",
       "    }\n",
       "\n",
       "    .dataframe tbody tr th {\n",
       "        vertical-align: top;\n",
       "    }\n",
       "\n",
       "    .dataframe thead th {\n",
       "        text-align: right;\n",
       "    }\n",
       "</style>\n",
       "<table border=\"1\" class=\"dataframe\">\n",
       "  <thead>\n",
       "    <tr style=\"text-align: right;\">\n",
       "      <th></th>\n",
       "      <th>transaction_id</th>\n",
       "      <th>timestamp</th>\n",
       "      <th>product_id</th>\n",
       "      <th>category</th>\n",
       "      <th>customer_type</th>\n",
       "      <th>unit_price</th>\n",
       "      <th>quantity</th>\n",
       "      <th>total</th>\n",
       "      <th>payment_type</th>\n",
       "      <th>hour</th>\n",
       "    </tr>\n",
       "  </thead>\n",
       "  <tbody>\n",
       "    <tr>\n",
       "      <th>0</th>\n",
       "      <td>a1c82654-c52c-45b3-8ce8-4c2a1efe63ed</td>\n",
       "      <td>2022-03-02 09:51:38</td>\n",
       "      <td>3bc6c1ea-0198-46de-9ffd-514ae3338713</td>\n",
       "      <td>fruit</td>\n",
       "      <td>gold</td>\n",
       "      <td>3.99</td>\n",
       "      <td>2</td>\n",
       "      <td>7.98</td>\n",
       "      <td>e-wallet</td>\n",
       "      <td>9</td>\n",
       "    </tr>\n",
       "    <tr>\n",
       "      <th>1</th>\n",
       "      <td>931ad550-09e8-4da6-beaa-8c9d17be9c60</td>\n",
       "      <td>2022-03-06 10:33:59</td>\n",
       "      <td>ad81b46c-bf38-41cf-9b54-5fe7f5eba93e</td>\n",
       "      <td>fruit</td>\n",
       "      <td>standard</td>\n",
       "      <td>3.99</td>\n",
       "      <td>1</td>\n",
       "      <td>3.99</td>\n",
       "      <td>e-wallet</td>\n",
       "      <td>10</td>\n",
       "    </tr>\n",
       "    <tr>\n",
       "      <th>2</th>\n",
       "      <td>ae133534-6f61-4cd6-b6b8-d1c1d8d90aea</td>\n",
       "      <td>2022-03-04 17:20:21</td>\n",
       "      <td>7c55cbd4-f306-4c04-a030-628cbe7867c1</td>\n",
       "      <td>fruit</td>\n",
       "      <td>premium</td>\n",
       "      <td>0.19</td>\n",
       "      <td>2</td>\n",
       "      <td>0.38</td>\n",
       "      <td>e-wallet</td>\n",
       "      <td>17</td>\n",
       "    </tr>\n",
       "    <tr>\n",
       "      <th>3</th>\n",
       "      <td>157cebd9-aaf0-475d-8a11-7c8e0f5b76e4</td>\n",
       "      <td>2022-03-02 17:23:58</td>\n",
       "      <td>80da8348-1707-403f-8be7-9e6deeccc883</td>\n",
       "      <td>fruit</td>\n",
       "      <td>gold</td>\n",
       "      <td>0.19</td>\n",
       "      <td>4</td>\n",
       "      <td>0.76</td>\n",
       "      <td>e-wallet</td>\n",
       "      <td>17</td>\n",
       "    </tr>\n",
       "    <tr>\n",
       "      <th>4</th>\n",
       "      <td>a81a6cd3-5e0c-44a2-826c-aea43e46c514</td>\n",
       "      <td>2022-03-05 14:32:43</td>\n",
       "      <td>7f5e86e6-f06f-45f6-bf44-27b095c9ad1d</td>\n",
       "      <td>fruit</td>\n",
       "      <td>basic</td>\n",
       "      <td>4.49</td>\n",
       "      <td>2</td>\n",
       "      <td>8.98</td>\n",
       "      <td>debit card</td>\n",
       "      <td>14</td>\n",
       "    </tr>\n",
       "  </tbody>\n",
       "</table>\n",
       "</div>"
      ],
      "text/plain": [
       "                         transaction_id           timestamp  \\\n",
       "0  a1c82654-c52c-45b3-8ce8-4c2a1efe63ed 2022-03-02 09:51:38   \n",
       "1  931ad550-09e8-4da6-beaa-8c9d17be9c60 2022-03-06 10:33:59   \n",
       "2  ae133534-6f61-4cd6-b6b8-d1c1d8d90aea 2022-03-04 17:20:21   \n",
       "3  157cebd9-aaf0-475d-8a11-7c8e0f5b76e4 2022-03-02 17:23:58   \n",
       "4  a81a6cd3-5e0c-44a2-826c-aea43e46c514 2022-03-05 14:32:43   \n",
       "\n",
       "                             product_id category customer_type  unit_price  \\\n",
       "0  3bc6c1ea-0198-46de-9ffd-514ae3338713    fruit          gold        3.99   \n",
       "1  ad81b46c-bf38-41cf-9b54-5fe7f5eba93e    fruit      standard        3.99   \n",
       "2  7c55cbd4-f306-4c04-a030-628cbe7867c1    fruit       premium        0.19   \n",
       "3  80da8348-1707-403f-8be7-9e6deeccc883    fruit          gold        0.19   \n",
       "4  7f5e86e6-f06f-45f6-bf44-27b095c9ad1d    fruit         basic        4.49   \n",
       "\n",
       "   quantity  total payment_type  hour  \n",
       "0         2   7.98     e-wallet     9  \n",
       "1         1   3.99     e-wallet    10  \n",
       "2         2   0.38     e-wallet    17  \n",
       "3         4   0.76     e-wallet    17  \n",
       "4         2   8.98   debit card    14  "
      ]
     },
     "execution_count": 124,
     "metadata": {},
     "output_type": "execute_result"
    }
   ],
   "source": [
    "df['hour'] = df['timestamp'].dt.hour\n",
    "df.head()"
   ]
  },
  {
   "cell_type": "code",
   "execution_count": 126,
   "id": "4e508fe0-2160-4c28-b033-af049e846823",
   "metadata": {},
   "outputs": [
    {
     "data": {
      "text/plain": [
       "11    738\n",
       "16    730\n",
       "18    727\n",
       "10    723\n",
       "12    721\n",
       "9     718\n",
       "19    709\n",
       "14    702\n",
       "17    699\n",
       "13    693\n",
       "15    669\n",
       "Name: hour, dtype: int64"
      ]
     },
     "execution_count": 126,
     "metadata": {},
     "output_type": "execute_result"
    }
   ],
   "source": [
    "df['hour'].value_counts()"
   ]
  },
  {
   "cell_type": "markdown",
   "id": "123d1855-bf74-4de3-81ef-71f4cbd34112",
   "metadata": {},
   "source": [
    "* **The hours 11 & 16 are the busiest throughout the day. This could mean that customers make transactions while commuting during their lunch breaks, as well as at the end of the workday.**"
   ]
  },
  {
   "cell_type": "markdown",
   "id": "1b235544-6f3f-40a4-bb28-965f57df284a",
   "metadata": {},
   "source": [
    "___"
   ]
  },
  {
   "cell_type": "markdown",
   "id": "a9d9be05-6216-4d3c-9c67-5d5d8035b2bf",
   "metadata": {},
   "source": [
    "The clients want to know:\n",
    "    `How to better stock the items so they sell?`"
   ]
  },
  {
   "cell_type": "markdown",
   "id": "b7aa4afa-796e-4ea0-8889-375836f45364",
   "metadata": {},
   "source": [
    "* We need more features. The current set of features did not provide enough information to answer this question.\n",
    "* We need more rows of data. This dataset contained only one week's data which is not enough to understand the general trends.\n",
    "* The questions needs to reformulated or fragmented into specific problems that we can tackle. The given question is too vague to answer with analysis of their data."
   ]
  }
 ],
 "metadata": {
  "kernelspec": {
   "display_name": "Python 3 (ipykernel)",
   "language": "python",
   "name": "python3"
  },
  "language_info": {
   "codemirror_mode": {
    "name": "ipython",
    "version": 3
   },
   "file_extension": ".py",
   "mimetype": "text/x-python",
   "name": "python",
   "nbconvert_exporter": "python",
   "pygments_lexer": "ipython3",
   "version": "3.10.6"
  }
 },
 "nbformat": 4,
 "nbformat_minor": 5
}
